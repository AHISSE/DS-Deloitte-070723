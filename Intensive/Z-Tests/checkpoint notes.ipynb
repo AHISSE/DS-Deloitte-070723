{
 "cells": [
  {
   "cell_type": "markdown",
   "metadata": {},
   "source": [
    "# Formulas for T-test"
   ]
  },
  {
   "cell_type": "markdown",
   "metadata": {},
   "source": [
    "$$ \\large z = \\frac{\\bar{x} - \\mu}{\\sigma} $$\n",
    "\n",
    "Z: z-score \n",
    "\n",
    "x_bar: the mean of the sample or value of interest.\n",
    "\n",
    "mu: The mean of the population, usually given. \n",
    "(we expect our sample to have about the same mean as the population if the null hypothesis is true)\n",
    "\n",
    "\n",
    "sigma: the std of the population, usually also given.\n",
    "\n",
    "\n",
    "\n",
    "If $p \\lt \\alpha$, we reject the null hypothesis.:\n",
    "\n",
    "If $p \\geq \\alpha$, we fail to reject the null hypothesis."
   ]
  },
  {
   "cell_type": "code",
   "execution_count": 3,
   "metadata": {},
   "outputs": [],
   "source": [
    "z = (75-65)/2.7"
   ]
  },
  {
   "cell_type": "code",
   "execution_count": 4,
   "metadata": {},
   "outputs": [
    {
     "data": {
      "text/plain": [
       "3.7037037037037033"
      ]
     },
     "execution_count": 4,
     "metadata": {},
     "output_type": "execute_result"
    }
   ],
   "source": [
    "z"
   ]
  },
  {
   "cell_type": "markdown",
   "metadata": {},
   "source": [
    "In the code above, the sample mean was 65 and the mean of the population was 75, and the sigma was 2.7. In a standarized format, the sample mean is 3.7 deviation away from the mean and sample mean only accounts .15% of the population mean."
   ]
  },
  {
   "cell_type": "code",
   "execution_count": null,
   "metadata": {},
   "outputs": [],
   "source": []
  }
 ],
 "metadata": {
  "kernelspec": {
   "display_name": "Python 3",
   "language": "python",
   "name": "python3"
  },
  "language_info": {
   "codemirror_mode": {
    "name": "ipython",
    "version": 3
   },
   "file_extension": ".py",
   "mimetype": "text/x-python",
   "name": "python",
   "nbconvert_exporter": "python",
   "pygments_lexer": "ipython3",
   "version": "3.8.5"
  }
 },
 "nbformat": 4,
 "nbformat_minor": 4
}
